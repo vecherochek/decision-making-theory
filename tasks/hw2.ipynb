{
  "nbformat": 4,
  "nbformat_minor": 0,
  "metadata": {
    "colab": {
      "provenance": []
    },
    "kernelspec": {
      "name": "python3",
      "display_name": "Python 3"
    },
    "language_info": {
      "name": "python"
    }
  },
  "cells": [
    {
      "cell_type": "markdown",
      "source": [
        "# Онлайн алгоритмы в задаче формирования портфеля ценных бумаг"
      ],
      "metadata": {
        "id": "3CW0SRQbtCcf"
      }
    },
    {
      "cell_type": "markdown",
      "source": [
        "## Постановка задачи\n",
        "\n",
        "В задаче формирования портфеля ценных бумаг допустимыми решениями являются всевозможные распределения состояния, имеющегося у игрока, т.е. элементы стандартного симплекса:\n",
        "\n",
        "$$\n",
        "\\Delta_d = \\left\\{\n",
        "x \\in \\mathbb{R}^d\n",
        ":\\;\n",
        "\\sum_{i = 1}^d x_i = 1,\n",
        "\\;\n",
        "x_i \\geq 0\n",
        "\\right\\}.\n",
        "$$\n",
        "\n",
        "Противник (природа) независимо выбирает рыночную доходность активов,\n",
        "т.е. вектор $r_t \\in \\mathbb{R}_+^d$,\n",
        "у которого $i$-ая компонента определяется формулой\n",
        "\n",
        "$$\n",
        "[r_t]_i = \\frac{\\text{цена единицы $i$-го актива в момент } t + 1}{\\text{цена единицы $i$-го актива в момент } t}.\n",
        "$$\n",
        "\n",
        "*Цель игрока* — максимизировать свое состояние по проишествии $T$ раундов, которая эквивалентна максимизации величины\n",
        "\n",
        "$$\n",
        "\\sum_{t=1}^T \\log r_t^\\top x_t,\n",
        "$$\n",
        "\n",
        "которую будем называть *логарифмическим приростом* портфеля ценных бумаг к моменту времени $T$.\n",
        "\n",
        "Регрет алгоритма $\\mathcal{A}$ к раунду $T$ определяется формулой\n",
        "\n",
        "$$\n",
        "\\mathrm{regret}_T(\\mathcal{A})\n",
        "=\n",
        "\\sum_{t=1}^T f_t(x_t)\n",
        "-\n",
        "\\min_{x \\in \\Delta_d}\n",
        "\\sum_{t = 1}^T f_t(x),\n",
        "$$\n",
        "\n",
        "где $f_t(x) = -\\log r_t^\\top x$."
      ],
      "metadata": {
        "id": "vcHymHk26wHD"
      }
    },
    {
      "cell_type": "markdown",
      "source": [
        "В этом задании вам предстоит реализовать алгоритмического инвестора на основе онлайн градиентного спуска, принимающего решения о перераспределении имеющихся средств между акциями российского фондового рынка:\n",
        "- в момент времени $t$ алгоритм должен предложить распределение средств между активами $x_t$;\n",
        "- после этого алгоритму открывается вектор рыночных доходностей $r_t$ из истории наблюдений;\n",
        "- алгоритм должен использовать поступившую информацию для корректировки и принятия решения на следующей итерации."
      ],
      "metadata": {
        "id": "N_XQKjL_9vIy"
      }
    },
    {
      "cell_type": "markdown",
      "source": [
        "## Подготовка данных (3 балла)\n",
        "\n",
        "Загрузите котировки (сформируйте набор данных) акций `RASP`, `GAZP`, `DSKY`, `SBER`, `KMAZ`, `RUAL` c 01.04.2020 по 22.04.2022 с интервалом в один день (раунд игры = день). Выведите таблицу (`pd.DataFrame`), в которой столбцы содержат временные ряды для каждого тикера, а их названия — тикеры. **[1 балл]**"
      ],
      "metadata": {
        "id": "45oxrUBRwpKv"
      }
    },
    {
      "cell_type": "code",
      "source": [
        "import numpy as np\n",
        "import pandas as pd\n",
        "\n",
        "import matplotlib.pyplot as plt\n",
        "\n",
        "from numpy.typing import ArrayLike"
      ],
      "metadata": {
        "id": "Bm1E9FXB-X--"
      },
      "execution_count": null,
      "outputs": []
    },
    {
      "cell_type": "code",
      "execution_count": null,
      "metadata": {
        "id": "klpOzquqtBPW"
      },
      "outputs": [],
      "source": [
        "# загрузка и подготовка данных"
      ]
    },
    {
      "cell_type": "markdown",
      "source": [
        "Визуализируйте поведение всех тикеров на всём горизонте игры. **[1 балл]**"
      ],
      "metadata": {
        "id": "AHwhqYTmwh6z"
      }
    },
    {
      "cell_type": "code",
      "source": [
        "# красивая визуализация на графике с подписями и адекватным масштабом"
      ],
      "metadata": {
        "id": "VUu77ymjwjTU"
      },
      "execution_count": null,
      "outputs": []
    },
    {
      "cell_type": "markdown",
      "source": [
        "Постройте таблицу (с тем же заголовком), содержащую по столбцам временные ряды *рыночных доходностей* тикеров. **[1 балл]**\n"
      ],
      "metadata": {
        "id": "DIRyitZOwj4t"
      }
    },
    {
      "cell_type": "code",
      "source": [
        "# место для кода"
      ],
      "metadata": {
        "id": "cTc1kg7Fwmh2"
      },
      "execution_count": null,
      "outputs": []
    },
    {
      "cell_type": "markdown",
      "source": [
        "## Онлайн градиентный спуск (8 баллов)\n",
        "\n",
        "Приведите выражение для градиента функции $f_t(x)$ и запишите явную формулу для итерации OGD. **[1 балл]**"
      ],
      "metadata": {
        "id": "UK0vc-DFwlGO"
      }
    },
    {
      "cell_type": "markdown",
      "source": [
        "*Место для выкладок.*"
      ],
      "metadata": {
        "id": "wUQnNxo9ygPX"
      }
    },
    {
      "cell_type": "markdown",
      "source": [
        "Реализуйте инвестора, принимающего решение на основе итераций онлайн градиентного спуска. **[4 балла]**\n",
        "\n",
        "Используйте готовую функцию `simplex_projection`, проектирующую входной вектор на стандартный симплекс."
      ],
      "metadata": {
        "id": "9deyae2DzNbF"
      }
    },
    {
      "cell_type": "code",
      "source": [
        "def _unsafe_simplex_projection(s: ArrayLike, norm_constraint: float) -> ArrayLike:\n",
        "    \"\"\"Находит проекцию на симплекс.\"\"\"\n",
        "    u = np.sort(s)[::-1]\n",
        "    cssv = np.cumsum(u)\n",
        "    rho = np.nonzero(u * np.arange(1, len(u) + 1) > (cssv - norm_constraint))[0][-1]\n",
        "    theta = (cssv[rho] - norm_constraint) / (rho + 1.0)\n",
        "    return np.maximum(s - theta, 0)\n",
        "\n",
        "\n",
        "def simplex_projection(s: ArrayLike):\n",
        "    \"\"\"Возвращает проекцию на единичный симплекс.\"\"\"\n",
        "    return s if np.sum(s) == 1 else _unsafe_simplex_projection(s, 1.0)"
      ],
      "metadata": {
        "id": "xFLdn3fVz8mS"
      },
      "execution_count": 4,
      "outputs": []
    },
    {
      "cell_type": "code",
      "source": [
        "# реализация онлайн градиентного спуска"
      ],
      "metadata": {
        "id": "mNazzS9KwliA"
      },
      "execution_count": null,
      "outputs": []
    },
    {
      "cell_type": "markdown",
      "source": [
        "### Запуск OGD"
      ],
      "metadata": {
        "id": "3FvZREF21IQT"
      }
    },
    {
      "cell_type": "markdown",
      "source": [
        "Как будете выбирать шаг при запуске OGD? Приведите исчерпывающее объяснение и мотивацию. **[1 балл]**"
      ],
      "metadata": {
        "id": "8zMXs9OK1Q_U"
      }
    },
    {
      "cell_type": "markdown",
      "source": [
        "*Место для выкладок.*"
      ],
      "metadata": {
        "id": "Gy03LsCD1j1x"
      }
    },
    {
      "cell_type": "markdown",
      "source": [
        "Начиная с равномерного распределения состояния между активами, запустите OGD на всём горизонте игры. Визуализируйте динамику логарифмического прироста портфеля ценных бумаг за весь период для OGD и инвестора, зафиксировавшего своё (произвольное) распределение в начале игры. **[2 балла]**"
      ],
      "metadata": {
        "id": "kI9iPC5W1w_G"
      }
    },
    {
      "cell_type": "code",
      "source": [
        "# красивая визуализация на графике с подписями и адекватным масштабом"
      ],
      "metadata": {
        "id": "EGMoocZ91KsF"
      },
      "execution_count": null,
      "outputs": []
    },
    {
      "cell_type": "markdown",
      "source": [
        "## Дополнительное задание (4 балла)\n",
        "\n",
        "Реализуйте любой подходящий канонический онлайн алгоритм из курса или даже их композицию. Визуализируйте динамику логарифмического прироста портфеля ценных бумаг за весь период для OGD и инвестора, принимающего решения на основе выбранного алгоритма. Сравните итоговые распределения, полученные с помощью этих алгоритмов, и попробуйте сделать выводы."
      ],
      "metadata": {
        "id": "0O-7Ush65Nk8"
      }
    },
    {
      "cell_type": "code",
      "source": [
        "# место для кода"
      ],
      "metadata": {
        "id": "PXM-2m2C5i1t"
      },
      "execution_count": null,
      "outputs": []
    }
  ]
}